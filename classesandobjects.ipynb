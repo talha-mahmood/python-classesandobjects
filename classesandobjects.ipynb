{
  "nbformat": 4,
  "nbformat_minor": 0,
  "metadata": {
    "colab": {
      "provenance": []
    },
    "kernelspec": {
      "name": "python3",
      "display_name": "Python 3"
    },
    "language_info": {
      "name": "python"
    }
  },
  "cells": [
    {
      "cell_type": "markdown",
      "source": [
        "1. Basic Class and Object Creation:\n",
        "o Define a class Car with attributes make and model. Create an instance of the Car"
      ],
      "metadata": {
        "id": "-dJi1Q4i9wNi"
      }
    },
    {
      "cell_type": "code",
      "source": [
        "class Car:\n",
        "    def __init__(self, make, model):\n",
        "        self.make = make\n",
        "        self.model = model\n",
        "\n",
        "# Create an instance of the Car class and print its attributes\n",
        "my_car = Car(\"Toyota\", \"Corolla\")\n",
        "print(f\"Make: {my_car.make}, Model: {my_car.model}\")"
      ],
      "metadata": {
        "colab": {
          "base_uri": "https://localhost:8080/"
        },
        "id": "XPhlUDJK9zhT",
        "outputId": "8c31e82b-21c4-44fb-e9d0-c7bb23f784ea"
      },
      "execution_count": null,
      "outputs": [
        {
          "output_type": "stream",
          "name": "stdout",
          "text": [
            "Make: Toyota, Model: Corolla\n"
          ]
        }
      ]
    },
    {
      "cell_type": "markdown",
      "source": [
        "2. Constructor with Parameters:\n",
        "o Define a class Book with a constructor that takes title and author as parameters\n",
        "and initializes these attributes. Create an instance of the Book class and print its\n",
        "attributes."
      ],
      "metadata": {
        "id": "Y6-eD770BN3O"
      }
    },
    {
      "cell_type": "code",
      "source": [
        "class Book:\n",
        "    def __init__(self, title, author):\n",
        "        self.title = title\n",
        "        self.author = author\n",
        "\n",
        "# Create an instance of the Book class and print its attributes\n",
        "my_book = Book(\"1984\", \"George Orwell\")\n",
        "print(f\"Title: {my_book.title}, Author: {my_book.author}\")\n"
      ],
      "metadata": {
        "colab": {
          "base_uri": "https://localhost:8080/"
        },
        "id": "54d4lNR-BNOm",
        "outputId": "7c76ae57-528e-49c7-dd39-c68ddb5bf968"
      },
      "execution_count": null,
      "outputs": [
        {
          "output_type": "stream",
          "name": "stdout",
          "text": [
            "Title: 1984, Author: George Orwell\n"
          ]
        }
      ]
    },
    {
      "cell_type": "markdown",
      "source": [
        "3. Constructor with Default Parameters:\n",
        "o Define a class Person with a constructor that takes name and age as parameters.\n",
        "Set default values for the parameters to &quot;Unknown&quot; and 0, respectively. Create\n",
        "instances of the Person class with and without passing arguments, and print their\n",
        "attributes."
      ],
      "metadata": {
        "id": "lD70bDfVBV_P"
      }
    },
    {
      "cell_type": "code",
      "source": [
        "class Person:\n",
        "    def __init__(self, name=\"Unknown\", age=0):\n",
        "        self.name = name\n",
        "        self.age = age\n",
        "\n",
        "# Create instances of the Person class with and without passing arguments\n",
        "person1 = Person()\n",
        "person2 = Person(\"Alice\", 30)\n",
        "\n",
        "print(f\"Person1 - Name: {person1.name}, Age: {person1.age}\")\n",
        "print(f\"Person2 - Name: {person2.name}, Age: {person2.age}\")\n"
      ],
      "metadata": {
        "colab": {
          "base_uri": "https://localhost:8080/"
        },
        "id": "Qdw2arRVBeOm",
        "outputId": "b92cc62a-5a44-49ae-c7d7-73d53d8fb77f"
      },
      "execution_count": null,
      "outputs": [
        {
          "output_type": "stream",
          "name": "stdout",
          "text": [
            "Person1 - Name: Unknown, Age: 0\n",
            "Person2 - Name: Alice, Age: 30\n"
          ]
        }
      ]
    },
    {
      "cell_type": "markdown",
      "source": [
        "4. Instance and Class Variables:\n",
        "o Define a class Employee with instance variables name and salary, and a class\n",
        "variable company_name. Create instances of the Employee class, modify the class\n",
        "variable, and observe the changes.\n"
      ],
      "metadata": {
        "id": "gHrkXfQTCQYh"
      }
    },
    {
      "cell_type": "code",
      "source": [
        "class Employee:\n",
        "    company_name = \"ABC Corp\"  # Class variable\n",
        "\n",
        "    def __init__(self, name, salary):\n",
        "        self.name = name\n",
        "        self.salary = salary\n",
        "\n",
        "# Create instances of the Employee class\n",
        "emp1 = Employee(\"John Doe\", 50000)\n",
        "emp2 = Employee(\"Jane Smith\", 60000)\n",
        "\n",
        "# Print the company name for both employees\n",
        "print(f\"Employee 1 - Name: {emp1.name}, Salary: {emp1.salary}, Company: {emp1.company_name}\")\n",
        "print(f\"Employee 2 - Name: {emp2.name}, Salary: {emp2.salary}, Company: {emp2.company_name}\")\n",
        "\n",
        "# Modify the class variable\n",
        "Employee.company_name = \"XYZ Inc\"\n",
        "\n",
        "# Print the updated company name for both employees\n",
        "print(f\"Employee 1 - Name: {emp1.name}, Salary: {emp1.salary}, Company: {emp1.company_name}\")\n",
        "print(f\"Employee 2 - Name: {emp2.name}, Salary: {emp2.salary}, Company: {emp2.company_name}\")\n"
      ],
      "metadata": {
        "colab": {
          "base_uri": "https://localhost:8080/"
        },
        "id": "1VR8r7C7CcAy",
        "outputId": "63edfbb8-b4d5-42fa-a7a5-721da2e8d8d2"
      },
      "execution_count": null,
      "outputs": [
        {
          "output_type": "stream",
          "name": "stdout",
          "text": [
            "Employee 1 - Name: John Doe, Salary: 50000, Company: ABC Corp\n",
            "Employee 2 - Name: Jane Smith, Salary: 60000, Company: ABC Corp\n",
            "Employee 1 - Name: John Doe, Salary: 50000, Company: XYZ Inc\n",
            "Employee 2 - Name: Jane Smith, Salary: 60000, Company: XYZ Inc\n"
          ]
        }
      ]
    },
    {
      "cell_type": "markdown",
      "source": [
        "5. Instance Methods:\n",
        "o Define a class Circle with an instance variable radius. Implement an instance\n",
        "method area that calculates and returns the area of the circle. Create an instance\n",
        "of the Circle class and call the area method."
      ],
      "metadata": {
        "id": "1rSWryo5Fk3g"
      }
    },
    {
      "cell_type": "code",
      "source": [
        "import math\n",
        "\n",
        "class Circle:\n",
        "    def __init__(self, radius):\n",
        "        self.radius = radius\n",
        "\n",
        "    def area(self):\n",
        "        return math.pi * self.radius ** 2\n",
        "\n",
        "# Create an instance of the Circle class and call the area method\n",
        "my_circle = Circle(5)\n",
        "print(f\"Area of the circle: {my_circle.area()}\")\n"
      ],
      "metadata": {
        "colab": {
          "base_uri": "https://localhost:8080/"
        },
        "id": "9E7fY80KFg9g",
        "outputId": "31bbb711-5089-4606-aa22-83b88c60b3e4"
      },
      "execution_count": null,
      "outputs": [
        {
          "output_type": "stream",
          "name": "stdout",
          "text": [
            "Area of the circle: 78.53981633974483\n"
          ]
        }
      ]
    },
    {
      "cell_type": "markdown",
      "source": [
        "6. Class Methods:\n",
        "o Define a class Student with an instance variable name and a class variable\n",
        "school_name. Implement a class method set_school_name to change the class\n",
        "variable school_name. Create instances of the Student class and use the class\n",
        "method to change the school name.\n"
      ],
      "metadata": {
        "id": "nFEvTbAZF4b1"
      }
    },
    {
      "cell_type": "code",
      "source": [
        "class Student:\n",
        "    school_name = \"Default School\"  # Class variable\n",
        "\n",
        "    def __init__(self, name):\n",
        "        self.name = name  # Instance variable\n",
        "\n",
        "    @classmethod\n",
        "    def set_school_name(cls, name):\n",
        "        cls.school_name = name\n",
        "\n",
        "# Create instances of the Student class\n",
        "student1 = Student(\"Alice\")\n",
        "student2 = Student(\"Bob\")\n",
        "\n",
        "# Print the initial school name\n",
        "print(f\"Student 1 - Name: {student1.name}, School: {student1.school_name}\")\n",
        "print(f\"Student 2 - Name: {student2.name}, School: {student2.school_name}\")\n",
        "\n",
        "# Use the class method to change the school name\n",
        "Student.set_school_name(\"New School\")\n",
        "\n",
        "# Print the updated school name\n",
        "print(f\"Student 1 - Name: {student1.name}, School: {student1.school_name}\")\n",
        "print(f\"Student 2 - Name: {student2.name}, School: {student2.school_name}\")\n"
      ],
      "metadata": {
        "colab": {
          "base_uri": "https://localhost:8080/"
        },
        "id": "p0CwBcRcF3V2",
        "outputId": "a8d3672c-224f-4dc3-8219-d34f39cd0690"
      },
      "execution_count": null,
      "outputs": [
        {
          "output_type": "stream",
          "name": "stdout",
          "text": [
            "Student 1 - Name: Alice, School: Default School\n",
            "Student 2 - Name: Bob, School: Default School\n",
            "Student 1 - Name: Alice, School: New School\n",
            "Student 2 - Name: Bob, School: New School\n"
          ]
        }
      ]
    },
    {
      "cell_type": "markdown",
      "source": [
        "7. Static Methods:\n",
        "o Define a class MathUtils with a static method add that takes two numbers and\n",
        "returns their sum. Call the static method without creating an instance of the class."
      ],
      "metadata": {
        "id": "zs2lWmHTGTx7"
      }
    },
    {
      "cell_type": "code",
      "source": [
        "class MathUtils:\n",
        "    @staticmethod\n",
        "    def add(a, b):\n",
        "        return a + b\n",
        "\n",
        "\n",
        "# Call the static method without creating an instance of the class\n",
        "result = MathUtils.add(10, 5)\n",
        "print(f\"The sum is: {result}\")\n",
        "\n"
      ],
      "metadata": {
        "colab": {
          "base_uri": "https://localhost:8080/"
        },
        "id": "nwv5y9gGGUa8",
        "outputId": "5f3102a7-64f5-4e2f-9750-3451326ce12e"
      },
      "execution_count": null,
      "outputs": [
        {
          "output_type": "stream",
          "name": "stdout",
          "text": [
            "The sum is: 15\n"
          ]
        }
      ]
    },
    {
      "cell_type": "markdown",
      "source": [
        "8. Passing Members of One Class to Another Class:\n",
        "o Define a class Address with attributes street and city. Define a class Person\n",
        "with attributes name and address. Pass an instance of the Address class as an\n",
        "argument to the Person class and print the person's details."
      ],
      "metadata": {
        "id": "GyrMKS0FK6IT"
      }
    },
    {
      "cell_type": "code",
      "source": [
        "class Address:\n",
        "    def __init__(self, street, city):\n",
        "        self.street = street\n",
        "        self.city = city\n",
        "\n",
        "class Person:\n",
        "    def __init__(self, name, address):\n",
        "        self.name = name\n",
        "        self.address = address\n",
        "\n",
        "    def __str__(self):\n",
        "        return f\"Name: {self.name}, Address: {self.address.street}, {self.address.city}\"\n",
        "\n",
        "# Create an instance of the Address class\n",
        "home_address = Address(\"123 Main St\", \"Springfield\")\n",
        "\n",
        "# Pass the Address instance to the Person class\n",
        "person = Person(\"John Doe\", home_address)\n",
        "\n",
        "# Print the person's details\n",
        "print(person)\n"
      ],
      "metadata": {
        "colab": {
          "base_uri": "https://localhost:8080/"
        },
        "id": "xJiekESUK_K2",
        "outputId": "5460dced-7f0c-4a2c-9c1b-91d7543f7e17"
      },
      "execution_count": null,
      "outputs": [
        {
          "output_type": "stream",
          "name": "stdout",
          "text": [
            "Name: John Doe, Address: 123 Main St, Springfield\n"
          ]
        }
      ]
    },
    {
      "cell_type": "markdown",
      "source": [
        "9. Combination of Methods:\n",
        "o Define a class BankAccount with instance variables account_number and\n",
        "balance, a class variable bank_name, an instance method deposit, a class\n",
        "method set_bank_name, and a static method interest_rate that returns a fixed\n",
        "interest rate. Create an instance of the BankAccount class and demonstrate the use\n",
        "of these methods."
      ],
      "metadata": {
        "id": "twPuhM55NJE5"
      }
    },
    {
      "cell_type": "code",
      "source": [
        "class BankAccount:\n",
        "    bank_name = \"Default Bank\"  # Class variable\n",
        "\n",
        "    def __init__(self, account_number, balance):\n",
        "        self.account_number = account_number\n",
        "        self.balance = balance\n",
        "\n",
        "    def deposit(self, amount):\n",
        "        self.balance += amount\n",
        "        return self.balance\n",
        "\n",
        "    @classmethod\n",
        "    def set_bank_name(cls, name):\n",
        "        cls.bank_name = name\n",
        "\n",
        "    @staticmethod\n",
        "    def interest_rate():\n",
        "        return 0.05  # Fixed interest rate\n",
        "\n",
        "# Create an instance of the BankAccount class\n",
        "account = BankAccount(\"12345678\", 1000)\n",
        "\n",
        "# Demonstrate the use of instance, class, and static methods\n",
        "print(f\"Account Number: {account.account_number}, Balance: {account.balance}, Bank: {account.bank_name}\")\n",
        "account.deposit(500)\n",
        "print(f\"New Balance after deposit: {account.balance}\")\n",
        "\n",
        "BankAccount.set_bank_name(\"New Bank\")\n",
        "print(f\"Updated Bank Name: {BankAccount.bank_name}\")\n",
        "\n",
        "print(f\"Interest Rate: {BankAccount.interest_rate()}\")\n"
      ],
      "metadata": {
        "colab": {
          "base_uri": "https://localhost:8080/"
        },
        "id": "czc9xjhuNJwZ",
        "outputId": "375b1a70-f632-42e1-c490-c68bc16408da"
      },
      "execution_count": null,
      "outputs": [
        {
          "output_type": "stream",
          "name": "stdout",
          "text": [
            "Account Number: 12345678, Balance: 1000, Bank: Default Bank\n",
            "New Balance after deposit: 1500\n",
            "Updated Bank Name: New Bank\n",
            "Interest Rate: 0.05\n"
          ]
        }
      ]
    }
  ]
}